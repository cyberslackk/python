{
  "cells": [
    {
      "cell_type": "markdown",
      "metadata": {
        "id": "view-in-github",
        "colab_type": "text"
      },
      "source": [
        "<a href=\"https://colab.research.google.com/github/cyberslackk/python/blob/main/NumPy.ipynb\" target=\"_parent\"><img src=\"https://colab.research.google.com/assets/colab-badge.svg\" alt=\"Open In Colab\"/></a>"
      ]
    },
    {
      "cell_type": "markdown",
      "metadata": {
        "id": "-6yX_d18ZKUF"
      },
      "source": [
        "<h1 style = \"color : Brown\">NumPy</h1>"
      ]
    },
    {
      "cell_type": "markdown",
      "metadata": {
        "id": "sTu2WmjtZKUG"
      },
      "source": [
        "- __NumPy__ is a Python library.\n",
        "- It is used for working with arrays.\n",
        "- It is short for \"Numerical Python\".\n",
        "- It is used for computation and processing of single and multi dimensional array of elements.\n",
        "- Smaller memory consumption and better runtime behavior.\n",
        "- Faster than loops, list comprehension, etc."
      ]
    },
    {
      "cell_type": "code",
      "execution_count": 4,
      "metadata": {
        "id": "nSJCb1OKZKUG"
      },
      "outputs": [],
      "source": [
        "# To install the library\n",
        "\n",
        "!pip install -q numpy"
      ]
    },
    {
      "cell_type": "markdown",
      "metadata": {
        "id": "G7t9z92pZKUH"
      },
      "source": [
        "## Basic Operations"
      ]
    },
    {
      "cell_type": "code",
      "execution_count": 2,
      "metadata": {
        "id": "FVztM-80ZKUH"
      },
      "outputs": [],
      "source": [
        "import numpy as np"
      ]
    },
    {
      "cell_type": "markdown",
      "metadata": {
        "id": "czeKOoxjZKUH"
      },
      "source": [
        "![image.png](attachment:image.png)"
      ]
    },
    {
      "cell_type": "code",
      "execution_count": 10,
      "metadata": {
        "scrolled": true,
        "colab": {
          "base_uri": "https://localhost:8080/"
        },
        "id": "bbbBjhAJZKUH",
        "outputId": "03b60820-e02e-4e5e-ca55-7855ae5797fd"
      },
      "outputs": [
        {
          "output_type": "stream",
          "name": "stdout",
          "text": [
            "[[1 2 3 4]]\n"
          ]
        },
        {
          "output_type": "execute_result",
          "data": {
            "text/plain": [
              "numpy.ndarray"
            ]
          },
          "metadata": {},
          "execution_count": 10
        }
      ],
      "source": [
        "a = np.array([[1,2,3,4]])\n",
        "print(a)\n",
        "type(a)"
      ]
    },
    {
      "cell_type": "code",
      "execution_count": null,
      "metadata": {
        "id": "TUQG_80MZKUH",
        "outputId": "98085c8e-ea01-411d-8982-659ee9a62e13"
      },
      "outputs": [
        {
          "data": {
            "text/plain": [
              "numpy.ndarray"
            ]
          },
          "execution_count": 4,
          "metadata": {},
          "output_type": "execute_result"
        }
      ],
      "source": [
        "type(a)"
      ]
    },
    {
      "cell_type": "code",
      "execution_count": 26,
      "metadata": {
        "colab": {
          "base_uri": "https://localhost:8080/"
        },
        "id": "wLWhUlo6ZKUH",
        "outputId": "a4db7c8b-96b6-42cd-a6d4-63d999e85b6b"
      },
      "outputs": [
        {
          "output_type": "stream",
          "name": "stdout",
          "text": [
            "[1. 2. 3.]\n"
          ]
        }
      ],
      "source": [
        "a = np.array([1,2,3], dtype = float)\n",
        "print(a)\n"
      ]
    },
    {
      "cell_type": "code",
      "execution_count": 27,
      "metadata": {
        "colab": {
          "base_uri": "https://localhost:8080/"
        },
        "id": "otlZM7zkZKUH",
        "outputId": "04c12fbd-c3f1-4b29-87f5-ce57c53f4ff9"
      },
      "outputs": [
        {
          "output_type": "stream",
          "name": "stdout",
          "text": [
            "[[ 1  2  3]\n",
            " [ 4  5  6]\n",
            " [ 8  9 10]]\n"
          ]
        }
      ],
      "source": [
        "b = np.array([[1,2,3], [4,5,6],[8,9,10]])\n",
        "print(b)"
      ]
    },
    {
      "cell_type": "code",
      "execution_count": 21,
      "metadata": {
        "colab": {
          "base_uri": "https://localhost:8080/"
        },
        "id": "gQo7hkwyZKUH",
        "outputId": "eac43c49-d551-4232-d82f-f1a7335b54fb"
      },
      "outputs": [
        {
          "output_type": "execute_result",
          "data": {
            "text/plain": [
              "numpy.ndarray"
            ]
          },
          "metadata": {},
          "execution_count": 21
        }
      ],
      "source": [
        "type(b)"
      ]
    },
    {
      "cell_type": "code",
      "execution_count": 32,
      "metadata": {
        "colab": {
          "base_uri": "https://localhost:8080/"
        },
        "id": "isHl46foZKUI",
        "outputId": "8b5c3021-676e-4d59-de4c-e36dd0e35f9b"
      },
      "outputs": [
        {
          "output_type": "stream",
          "name": "stdout",
          "text": [
            "[[[1 2 3]\n",
            "  [4 5 6]\n",
            "  [7 8 9]]]\n"
          ]
        },
        {
          "output_type": "execute_result",
          "data": {
            "text/plain": [
              "numpy.ndarray"
            ]
          },
          "metadata": {},
          "execution_count": 32
        }
      ],
      "source": [
        "c = np.array([[[1,2,3], [4,5,6], [7,8,9]]])\n",
        "print(c)\n",
        "type(c)"
      ]
    },
    {
      "cell_type": "code",
      "execution_count": 33,
      "metadata": {
        "colab": {
          "base_uri": "https://localhost:8080/"
        },
        "id": "Htg4xr8PZKUI",
        "outputId": "e7774d93-520a-4cc4-b56b-19dcbcec7cfb"
      },
      "outputs": [
        {
          "output_type": "stream",
          "name": "stdout",
          "text": [
            "1\n",
            "2\n",
            "3\n"
          ]
        }
      ],
      "source": [
        "#Get Dimensions of a numpy array\n",
        "print(a.ndim)\n",
        "print(b.ndim)\n",
        "print(c.ndim)"
      ]
    },
    {
      "cell_type": "code",
      "execution_count": null,
      "metadata": {
        "id": "drr-xOqyZKUI",
        "outputId": "fd9d6d65-555a-43b2-ceb5-fa03e388c7af"
      },
      "outputs": [
        {
          "data": {
            "text/plain": [
              "2"
            ]
          },
          "execution_count": 10,
          "metadata": {},
          "output_type": "execute_result"
        }
      ],
      "source": [
        "#Get Dimensions of a numpy array\n",
        "b.ndim"
      ]
    },
    {
      "cell_type": "code",
      "execution_count": 31,
      "metadata": {
        "colab": {
          "base_uri": "https://localhost:8080/"
        },
        "id": "ilHSq9U0ZKUI",
        "outputId": "01f01c4a-0c02-4e74-f582-060110686d73"
      },
      "outputs": [
        {
          "output_type": "execute_result",
          "data": {
            "text/plain": [
              "2"
            ]
          },
          "metadata": {},
          "execution_count": 31
        }
      ],
      "source": [
        "c.ndim"
      ]
    },
    {
      "cell_type": "code",
      "execution_count": 3,
      "metadata": {
        "colab": {
          "base_uri": "https://localhost:8080/"
        },
        "id": "GryuWTxGZKUI",
        "outputId": "b961764e-6828-4e34-d285-94e0106fa1b6"
      },
      "outputs": [
        {
          "output_type": "stream",
          "name": "stdout",
          "text": [
            "[[[[1 2 3]\n",
            "   [4 5 6]\n",
            "   [7 8 9]]]]\n",
            "4\n"
          ]
        }
      ],
      "source": [
        "d = np.array([[[[1,2,3], [4,5,6], [7,8,9]]]])\n",
        "print(d)\n",
        "print(d.ndim)"
      ]
    },
    {
      "cell_type": "code",
      "execution_count": 4,
      "metadata": {
        "colab": {
          "base_uri": "https://localhost:8080/"
        },
        "id": "Yk90FNUkZKUI",
        "outputId": "49114fa8-2bb7-4112-ac96-018c3c1ef157"
      },
      "outputs": [
        {
          "output_type": "execute_result",
          "data": {
            "text/plain": [
              "4"
            ]
          },
          "metadata": {},
          "execution_count": 4
        }
      ],
      "source": [
        "d.ndim"
      ]
    },
    {
      "cell_type": "markdown",
      "metadata": {
        "id": "WQ9VjD_UZKUI"
      },
      "source": [
        "## Why Use NumPy?"
      ]
    },
    {
      "cell_type": "markdown",
      "metadata": {
        "id": "Ozkaalr1ZKUI"
      },
      "source": [
        "- In Traditional Python Programming, we have lists that serve the purpose of arrays, but they are slow to process.\n",
        "- NumPy aims to provide an array object that is up to __50x__ faster than traditional Python lists.\n",
        "- The array object in NumPy is called ndarray, it provides a lot of supporting functions that make working with ndarray very easy.\n",
        "- Arrays are very frequently used in data science, where speed and resources are very important."
      ]
    },
    {
      "cell_type": "markdown",
      "metadata": {
        "id": "TdF13oIAZKUI"
      },
      "source": [
        "![image.png](attachment:image.png)"
      ]
    },
    {
      "cell_type": "markdown",
      "metadata": {
        "id": "3dkKih1HZKUI"
      },
      "source": [
        "## Time taken for the loop\n",
        "\n",
        "- Dimension (axis) = how many levels of nesting your data has.\n",
        "- Shape = how many elements are along each axis\n",
        "- NumPy just counts how deeply nested your brackets are.\n",
        "- Each new [ introduces a new dimension.\n",
        "- Inside, it checks the lengths to determine the size along each axis.\n",
        "\n",
        "\n",
        "| Array type | Example                                     | Shape       | Meaning                             |\n",
        "| ---------- | ------------------------------------------- | ----------- | ----------------------------------- |\n",
        "| **1D**     | `[1, 2, 3]`                                 | `(3,)`      | 3 numbers in a row                  |\n",
        "| **2D**     | `[[1,2,3],[4,5,6]]`                         | `(2,3)`     | 2 rows × 3 columns                  |\n",
        "| **3D**     | `[[[1,2,3],[4,5,6]], [[7,8,9],[10,11,12]]]` | `(2,2,3)`   | 2 blocks × 2 rows × 3 cols          |\n",
        "| **4D**     | `[[[[1,2,3],[4,5,6],[7,8,9]]]]`             | `(1,1,3,3)` | 1 group × 1 block × 3 rows × 3 cols |\n",
        "\n",
        "\n",
        "\n",
        "print(d.ndim)   # number of dimensions\n",
        "\n",
        "\n",
        "print(d.shape)  # size of each dimension\n",
        "\n",
        "\n",
        "print(d.size)   # total number of elements\n"
      ]
    },
    {
      "cell_type": "markdown",
      "source": [],
      "metadata": {
        "id": "ZOLKphvs2aHB"
      }
    },
    {
      "cell_type": "markdown",
      "metadata": {
        "id": "8FqYyVE6ZKUJ"
      },
      "source": [
        "![image.png](attachment:image.png)"
      ]
    },
    {
      "cell_type": "code",
      "execution_count": null,
      "metadata": {
        "id": "kp94QRIsZKUJ",
        "outputId": "2ad1ec20-36e5-44bd-92e3-bc26c9c47f29"
      },
      "outputs": [
        {
          "data": {
            "text/plain": [
              "array([1., 2., 3.])"
            ]
          },
          "execution_count": 14,
          "metadata": {},
          "output_type": "execute_result"
        }
      ],
      "source": [
        "a"
      ]
    },
    {
      "cell_type": "code",
      "execution_count": null,
      "metadata": {
        "id": "2gXR_mH8ZKUJ",
        "outputId": "dac927dc-a8cb-4f12-d32a-ed7a79dfe203"
      },
      "outputs": [
        {
          "data": {
            "text/plain": [
              "(3,)"
            ]
          },
          "execution_count": 16,
          "metadata": {},
          "output_type": "execute_result"
        }
      ],
      "source": [
        "#Get a shape of a numpy array\n",
        "a.shape"
      ]
    },
    {
      "cell_type": "code",
      "execution_count": null,
      "metadata": {
        "id": "vGlZZD-NZKUJ",
        "outputId": "4a9e1d13-71fd-44e9-f460-b827d8de971c"
      },
      "outputs": [
        {
          "data": {
            "text/plain": [
              "array([[1, 2, 3],\n",
              "       [4, 5, 6]])"
            ]
          },
          "execution_count": 17,
          "metadata": {},
          "output_type": "execute_result"
        }
      ],
      "source": [
        "b"
      ]
    },
    {
      "cell_type": "code",
      "execution_count": null,
      "metadata": {
        "id": "8FWLvlufZKUJ",
        "outputId": "ff413499-bf6b-40bd-ad8d-e7257651dc79"
      },
      "outputs": [
        {
          "data": {
            "text/plain": [
              "(2, 3)"
            ]
          },
          "execution_count": 99,
          "metadata": {},
          "output_type": "execute_result"
        }
      ],
      "source": [
        "b.shape"
      ]
    },
    {
      "cell_type": "code",
      "execution_count": null,
      "metadata": {
        "id": "aKnrSKtWZKUJ",
        "outputId": "7f74ffe0-b820-4474-e9b2-3db2605d0768"
      },
      "outputs": [
        {
          "data": {
            "text/plain": [
              "array([[1, 2, 3],\n",
              "       [4, 5, 6],\n",
              "       [7, 8, 9]])"
            ]
          },
          "execution_count": 18,
          "metadata": {},
          "output_type": "execute_result"
        }
      ],
      "source": [
        "c"
      ]
    },
    {
      "cell_type": "code",
      "execution_count": null,
      "metadata": {
        "id": "AonOA6M5ZKUJ",
        "outputId": "1b8089ab-6efa-47d5-a5c0-184745fa41e2"
      },
      "outputs": [
        {
          "data": {
            "text/plain": [
              "(3, 3)"
            ]
          },
          "execution_count": 19,
          "metadata": {},
          "output_type": "execute_result"
        }
      ],
      "source": [
        "c.shape"
      ]
    },
    {
      "cell_type": "code",
      "execution_count": null,
      "metadata": {
        "id": "mdLBMO-gZKUJ",
        "outputId": "b2110ad7-fd85-477a-d8ff-d56541e41057"
      },
      "outputs": [
        {
          "data": {
            "text/plain": [
              "array([1., 2., 3.])"
            ]
          },
          "execution_count": 20,
          "metadata": {},
          "output_type": "execute_result"
        }
      ],
      "source": [
        "a"
      ]
    },
    {
      "cell_type": "code",
      "execution_count": null,
      "metadata": {
        "id": "60KJ-l_OZKUJ",
        "outputId": "94f0f1a3-9fd1-4150-ccad-d9d8242688eb"
      },
      "outputs": [
        {
          "data": {
            "text/plain": [
              "array([1., 2., 3.])"
            ]
          },
          "execution_count": 23,
          "metadata": {},
          "output_type": "execute_result"
        }
      ],
      "source": [
        "a"
      ]
    },
    {
      "cell_type": "code",
      "execution_count": null,
      "metadata": {
        "id": "pjJJLe9nZKUJ",
        "outputId": "f98fa547-c57d-4698-b269-78ee214b1b88"
      },
      "outputs": [
        {
          "data": {
            "text/plain": [
              "dtype('float64')"
            ]
          },
          "execution_count": 22,
          "metadata": {},
          "output_type": "execute_result"
        }
      ],
      "source": [
        "a.dtype"
      ]
    },
    {
      "cell_type": "code",
      "execution_count": null,
      "metadata": {
        "id": "w6xiR_fHZKUK",
        "outputId": "6aa6ce56-ece1-40b9-97a5-7dd2ddbfa8d1"
      },
      "outputs": [
        {
          "name": "stdout",
          "output_type": "stream",
          "text": [
            "[1.1 2.1 3.4]\n"
          ]
        }
      ],
      "source": [
        "a_int = np.array([1.1,2.1,3.4])\n",
        "print(a_int)"
      ]
    },
    {
      "cell_type": "code",
      "execution_count": null,
      "metadata": {
        "id": "0j_sYxfKZKUK",
        "outputId": "ee5437a5-28a4-4a32-df0c-b8c5b2baae6e"
      },
      "outputs": [
        {
          "data": {
            "text/plain": [
              "dtype('float64')"
            ]
          },
          "execution_count": 111,
          "metadata": {},
          "output_type": "execute_result"
        }
      ],
      "source": [
        "a_int.dtype"
      ]
    },
    {
      "cell_type": "markdown",
      "metadata": {
        "id": "EjYdfz9tZKUK"
      },
      "source": [
        "## Accessing/Changing specific elements, rows & columns etc."
      ]
    },
    {
      "cell_type": "code",
      "execution_count": null,
      "metadata": {
        "id": "oC0_1RhsZKUK",
        "outputId": "d2efbb6f-4fc0-4984-8889-8a0f056a6d7f"
      },
      "outputs": [
        {
          "name": "stdout",
          "output_type": "stream",
          "text": [
            "[[ 1  2  3  4  5  6  7]\n",
            " [ 8  9 10 11 12 13 14]]\n"
          ]
        }
      ],
      "source": [
        "a = np.array([[1,2,3,4,5,6,7], [8,9,10,11,12,13,14]])\n",
        "print(a)"
      ]
    },
    {
      "cell_type": "code",
      "execution_count": null,
      "metadata": {
        "id": "StnA2xkQZKUK",
        "outputId": "c2385e4d-160c-4f3b-cae2-d292dd46b94a"
      },
      "outputs": [
        {
          "data": {
            "text/plain": [
              "2"
            ]
          },
          "execution_count": 25,
          "metadata": {},
          "output_type": "execute_result"
        }
      ],
      "source": [
        "a.ndim"
      ]
    },
    {
      "cell_type": "code",
      "execution_count": null,
      "metadata": {
        "id": "rroeL3AHZKUK",
        "outputId": "7d22f641-4977-4e9b-b310-8e68b12d630f"
      },
      "outputs": [
        {
          "data": {
            "text/plain": [
              "4"
            ]
          },
          "execution_count": 26,
          "metadata": {},
          "output_type": "execute_result"
        }
      ],
      "source": [
        "#Get a specific element [r,c]\n",
        "a[0,3]"
      ]
    },
    {
      "cell_type": "code",
      "execution_count": null,
      "metadata": {
        "id": "wDF66LqGZKUK",
        "outputId": "25b788ce-7474-402d-b49c-85ab73f56e90"
      },
      "outputs": [
        {
          "data": {
            "text/plain": [
              "8"
            ]
          },
          "execution_count": 27,
          "metadata": {},
          "output_type": "execute_result"
        }
      ],
      "source": [
        "a[1,0]"
      ]
    },
    {
      "cell_type": "code",
      "execution_count": null,
      "metadata": {
        "id": "cEG7mwp6ZKUO",
        "outputId": "e7f2288c-54d4-4910-eb66-0411336be942"
      },
      "outputs": [
        {
          "data": {
            "text/plain": [
              "13"
            ]
          },
          "execution_count": 28,
          "metadata": {},
          "output_type": "execute_result"
        }
      ],
      "source": [
        "a[1,5]"
      ]
    },
    {
      "cell_type": "code",
      "execution_count": null,
      "metadata": {
        "id": "aGA8wv0jZKUO",
        "outputId": "0a559d39-bd09-4fc3-9cb4-a34da6e211aa"
      },
      "outputs": [
        {
          "data": {
            "text/plain": [
              "array([1, 2, 3, 4, 5, 6, 7])"
            ]
          },
          "execution_count": 30,
          "metadata": {},
          "output_type": "execute_result"
        }
      ],
      "source": [
        "#Get a specific row from a numpy array\n",
        "a[0,:]"
      ]
    },
    {
      "cell_type": "code",
      "execution_count": null,
      "metadata": {
        "id": "wiQ9wC-7ZKUO",
        "outputId": "24536485-ecbe-44e9-f6a2-84a13e2455d5"
      },
      "outputs": [
        {
          "data": {
            "text/plain": [
              "array([1, 8])"
            ]
          },
          "execution_count": 31,
          "metadata": {},
          "output_type": "execute_result"
        }
      ],
      "source": [
        "#Get a specific column from a numpy array\n",
        "\n",
        "a[:,0]"
      ]
    },
    {
      "cell_type": "code",
      "execution_count": null,
      "metadata": {
        "id": "_2hnN1yvZKUO",
        "outputId": "7b57fe7a-db8f-430d-d48f-66413a553542"
      },
      "outputs": [
        {
          "data": {
            "text/plain": [
              "array([1, 8])"
            ]
          },
          "execution_count": 33,
          "metadata": {},
          "output_type": "execute_result"
        }
      ],
      "source": [
        "#Get a specific column from a numpy array\n",
        "a[:,0]"
      ]
    },
    {
      "cell_type": "code",
      "execution_count": null,
      "metadata": {
        "id": "U-S0K7F-ZKUP",
        "outputId": "a32f7ee8-9b1b-4883-9973-e78dbab01b1f"
      },
      "outputs": [
        {
          "data": {
            "text/plain": [
              "array([[ 1,  2,  3,  4,  5,  6,  7],\n",
              "       [ 8,  9, 10, 11, 12, 13, 14]])"
            ]
          },
          "execution_count": 32,
          "metadata": {},
          "output_type": "execute_result"
        }
      ],
      "source": [
        "a"
      ]
    },
    {
      "cell_type": "code",
      "execution_count": null,
      "metadata": {
        "id": "a8JfkidyZKUP",
        "outputId": "ca3c5f9f-12b3-4c98-ef8c-960b2d76430e"
      },
      "outputs": [
        {
          "name": "stdout",
          "output_type": "stream",
          "text": [
            "[[ 1  2  3 40  5  6  7]\n",
            " [ 8  9 10 11 12 13 14]]\n"
          ]
        }
      ],
      "source": [
        "a[0,3] = 40\n",
        "print(a)"
      ]
    },
    {
      "cell_type": "code",
      "execution_count": null,
      "metadata": {
        "id": "7wIo6q_WZKUP"
      },
      "outputs": [],
      "source": [
        "#Change the 5th column in 1st row to 50\n",
        "a[0,4] = 50"
      ]
    },
    {
      "cell_type": "code",
      "execution_count": null,
      "metadata": {
        "id": "NQYhC14bZKUP",
        "outputId": "3c98d87f-1a68-4d23-8fb6-b4b1eabd0506"
      },
      "outputs": [
        {
          "data": {
            "text/plain": [
              "array([[ 1,  2,  3, 40, 50,  6,  7],\n",
              "       [ 8,  9, 10, 11, 12, 13, 14]])"
            ]
          },
          "execution_count": 35,
          "metadata": {},
          "output_type": "execute_result"
        }
      ],
      "source": [
        "a"
      ]
    },
    {
      "cell_type": "markdown",
      "metadata": {
        "id": "qfk8veltZKUP"
      },
      "source": [
        "## Zeros/Ones method in NumPy"
      ]
    },
    {
      "cell_type": "code",
      "execution_count": null,
      "metadata": {
        "id": "PC-6okfLZKUP",
        "outputId": "ce86985a-5a8d-4643-fb56-39ad3b961296"
      },
      "outputs": [
        {
          "data": {
            "text/plain": [
              "array([[0., 0., 0.],\n",
              "       [0., 0., 0.],\n",
              "       [0., 0., 0.]])"
            ]
          },
          "execution_count": 36,
          "metadata": {},
          "output_type": "execute_result"
        }
      ],
      "source": [
        "np.zeros((3,3))"
      ]
    },
    {
      "cell_type": "code",
      "execution_count": null,
      "metadata": {
        "id": "c2muZeRzZKUP",
        "outputId": "f404d00c-2028-4d2b-86b1-2917da4328a6"
      },
      "outputs": [
        {
          "data": {
            "text/plain": [
              "array([[1., 1., 1.],\n",
              "       [1., 1., 1.],\n",
              "       [1., 1., 1.]])"
            ]
          },
          "execution_count": 37,
          "metadata": {},
          "output_type": "execute_result"
        }
      ],
      "source": [
        "np.ones((3,3))"
      ]
    },
    {
      "cell_type": "code",
      "execution_count": null,
      "metadata": {
        "id": "whIrYuAnZKUP",
        "outputId": "85e9d8e9-321a-4723-8422-f9a9183efc58"
      },
      "outputs": [
        {
          "data": {
            "text/plain": [
              "array([[1, 1, 1],\n",
              "       [1, 1, 1],\n",
              "       [1, 1, 1]])"
            ]
          },
          "execution_count": 39,
          "metadata": {},
          "output_type": "execute_result"
        }
      ],
      "source": [
        "np.ones((3,3), dtype='int32')"
      ]
    },
    {
      "cell_type": "code",
      "execution_count": null,
      "metadata": {
        "id": "dYfDOfvWZKUP",
        "outputId": "cc209ad8-2ac0-4fb5-a701-389564afbe32"
      },
      "outputs": [
        {
          "data": {
            "text/plain": [
              "array([[50., 50., 50.],\n",
              "       [50., 50., 50.],\n",
              "       [50., 50., 50.]])"
            ]
          },
          "execution_count": 40,
          "metadata": {},
          "output_type": "execute_result"
        }
      ],
      "source": [
        "np.full((3,3), 50, dtype='float64')"
      ]
    },
    {
      "cell_type": "code",
      "execution_count": null,
      "metadata": {
        "id": "MJVXCcetZKUP",
        "outputId": "0b6b7b5d-df2a-41fe-c473-e88ee6bc0eb9"
      },
      "outputs": [
        {
          "data": {
            "text/plain": [
              "array([[50, 50, 50],\n",
              "       [50, 50, 50],\n",
              "       [50, 50, 50]])"
            ]
          },
          "execution_count": 41,
          "metadata": {},
          "output_type": "execute_result"
        }
      ],
      "source": [
        "np.full((3,3), 50, dtype='int32')"
      ]
    },
    {
      "cell_type": "code",
      "execution_count": null,
      "metadata": {
        "id": "rMuLggM8ZKUP",
        "outputId": "8e664988-3bae-4a3c-d7db-5c8d3be6815e"
      },
      "outputs": [
        {
          "data": {
            "text/plain": [
              "array([[0.75840089, 0.86087889, 0.1610105 , 0.39967769],\n",
              "       [0.36738525, 0.16325008, 0.97694845, 0.47940924],\n",
              "       [0.88013959, 0.48025697, 0.52094789, 0.79223042],\n",
              "       [0.29775286, 0.06195496, 0.50064926, 0.94643265]])"
            ]
          },
          "execution_count": 42,
          "metadata": {},
          "output_type": "execute_result"
        }
      ],
      "source": [
        "np.random.rand(4,4)"
      ]
    },
    {
      "cell_type": "code",
      "execution_count": null,
      "metadata": {
        "id": "qAvLbgZeZKUP",
        "outputId": "044f33fa-7598-4815-c6a9-5ac07715a010"
      },
      "outputs": [
        {
          "data": {
            "text/plain": [
              "array([[-3,  0, -3],\n",
              "       [-1, -1,  0],\n",
              "       [ 0, -1, -2]])"
            ]
          },
          "execution_count": 44,
          "metadata": {},
          "output_type": "execute_result"
        }
      ],
      "source": [
        "np.random.randint(-4,1, size=(3,3))"
      ]
    },
    {
      "cell_type": "code",
      "execution_count": null,
      "metadata": {
        "id": "phU8XRVQZKUQ",
        "outputId": "8ef9f687-00ab-4053-8abf-824696d9b98b"
      },
      "outputs": [
        {
          "data": {
            "text/plain": [
              "array([[1., 0., 0., 0., 0.],\n",
              "       [0., 1., 0., 0., 0.],\n",
              "       [0., 0., 1., 0., 0.],\n",
              "       [0., 0., 0., 1., 0.],\n",
              "       [0., 0., 0., 0., 1.]])"
            ]
          },
          "execution_count": 45,
          "metadata": {},
          "output_type": "execute_result"
        }
      ],
      "source": [
        "np.identity(5)"
      ]
    },
    {
      "cell_type": "markdown",
      "metadata": {
        "id": "cBiuliJlZKUQ"
      },
      "source": [
        "## Practice Questions"
      ]
    },
    {
      "cell_type": "markdown",
      "metadata": {
        "id": "8iuWW92nZKUQ"
      },
      "source": [
        "## Question #1\n",
        "\n",
        "Extract all the first 3 rows of the last 5 columns in a given numpy 2D array ‘a’?"
      ]
    },
    {
      "cell_type": "code",
      "execution_count": null,
      "metadata": {
        "id": "zdTuJch4ZKUQ"
      },
      "outputs": [],
      "source": [
        "2,3,4,5,6\n",
        "20,30,40,50,60\n",
        "12,12,12,12,12"
      ]
    },
    {
      "cell_type": "code",
      "execution_count": null,
      "metadata": {
        "id": "WkX9kP9IZKUQ"
      },
      "outputs": [],
      "source": [
        "a= np.array([[1,2,3,4,5,6],\n",
        "             [10,20,30,40,50,60],\n",
        "             [12,12,12,12,12,12],\n",
        "             [11,21,31,41,51,61],\n",
        "             [13,24,34,44,54,64]])"
      ]
    },
    {
      "cell_type": "code",
      "execution_count": null,
      "metadata": {
        "id": "D2GrB3q7ZKUQ",
        "outputId": "a04353dd-26c3-4be0-bb41-a7379bc6389f"
      },
      "outputs": [
        {
          "data": {
            "text/plain": [
              "array([[ 1,  2,  3,  4,  5,  6],\n",
              "       [10, 20, 30, 40, 50, 60],\n",
              "       [12, 12, 12, 12, 12, 12],\n",
              "       [11, 21, 31, 41, 51, 61],\n",
              "       [13, 24, 34, 44, 54, 64]])"
            ]
          },
          "execution_count": 47,
          "metadata": {},
          "output_type": "execute_result"
        }
      ],
      "source": [
        "a"
      ]
    },
    {
      "cell_type": "code",
      "execution_count": null,
      "metadata": {
        "id": "BotccDhyZKUQ",
        "outputId": "dfd9379d-4bac-4110-92d5-26fcb951860a"
      },
      "outputs": [
        {
          "data": {
            "text/plain": [
              "array([[ 2,  3,  4,  5,  6],\n",
              "       [20, 30, 40, 50, 60],\n",
              "       [12, 12, 12, 12, 12]])"
            ]
          },
          "execution_count": 49,
          "metadata": {},
          "output_type": "execute_result"
        }
      ],
      "source": [
        "a[ :3 , -5: ]"
      ]
    },
    {
      "cell_type": "markdown",
      "metadata": {
        "id": "EI-B03i6ZKUQ"
      },
      "source": [
        "## Question #2\n",
        "\n",
        "Given a positive number 'n' greater than 2, create a NumPy array of size (nxn) with all zeros and ones such that the ones make a shape of \"+\"\n",
        "\n",
        "Examples:\n",
        "\n",
        "Input 1:\n",
        "\n",
        "3\n",
        "\n",
        "Output 1:\n",
        "\n",
        "[[0 1 0]\n",
        "\n",
        " [1 1 1]\n",
        "\n",
        " [0 1 0]]\n",
        "\n",
        "Input 2:\n",
        "\n",
        "5\n",
        "\n",
        "Output 1:\n",
        "\n",
        "[[0 0 1 0 0]\n",
        "\n",
        " [0 0 1 0 0]\n",
        "\n",
        " [1 1 1 1 1]\n",
        "\n",
        " [0 0 1 0 0]\n",
        "\n",
        " [0 0 1 0 0]]"
      ]
    },
    {
      "cell_type": "code",
      "execution_count": null,
      "metadata": {
        "id": "_ZumJvnDZKUR"
      },
      "outputs": [],
      "source": [
        "n=5"
      ]
    },
    {
      "cell_type": "code",
      "execution_count": null,
      "metadata": {
        "id": "0xpSMqjlZKUR",
        "outputId": "ea8905a1-c2b8-484a-f659-79bfd09fa6b8"
      },
      "outputs": [
        {
          "name": "stdout",
          "output_type": "stream",
          "text": [
            "[[0 0 0 0 0]\n",
            " [0 0 0 0 0]\n",
            " [0 0 0 0 0]\n",
            " [0 0 0 0 0]\n",
            " [0 0 0 0 0]]\n"
          ]
        }
      ],
      "source": [
        "import numpy as np\n",
        "\n",
        "# Create an (nxn) array with all zeros\n",
        "z = np.zeros((n,n), dtype='int')\n",
        "print(z)"
      ]
    },
    {
      "cell_type": "code",
      "execution_count": null,
      "metadata": {
        "id": "Lng2kNHLZKUR",
        "outputId": "3399dc3c-356a-4572-a8bf-11dcee9f1eca"
      },
      "outputs": [
        {
          "name": "stdout",
          "output_type": "stream",
          "text": [
            "[[0 0 1 0 0]\n",
            " [0 0 1 0 0]\n",
            " [1 1 1 1 1]\n",
            " [0 0 1 0 0]\n",
            " [0 0 1 0 0]]\n"
          ]
        }
      ],
      "source": [
        "# Make the middle row and column all 1s\n",
        "\n",
        "z[n//2,:] = 1\n",
        "z[:,n//2] = 1\n",
        "\n",
        "# Print the final value of z\n",
        "print(z)"
      ]
    },
    {
      "cell_type": "markdown",
      "metadata": {
        "id": "ZJ--yXRYZKUR"
      },
      "source": [
        "#### Just to help you understand about n//2"
      ]
    },
    {
      "cell_type": "code",
      "execution_count": null,
      "metadata": {
        "id": "lPNlsnglZKUR"
      },
      "outputs": [],
      "source": [
        "a= np.array([[1,2,3,4,5,6],\n",
        "             [10,20,30,40,50,60],\n",
        "             [12,12,12,12,12,12],\n",
        "             [11,21,31,41,51,61],\n",
        "             [13,24,34,44,54,64]])"
      ]
    },
    {
      "cell_type": "code",
      "execution_count": null,
      "metadata": {
        "id": "39PROv-BZKUR",
        "outputId": "98b3ca8f-bb8c-4ae2-a9d3-0b637bae2287"
      },
      "outputs": [
        {
          "data": {
            "text/plain": [
              "array([[ 1,  2,  3,  4,  5,  6],\n",
              "       [10, 20, 30, 40, 50, 60],\n",
              "       [12, 12, 12, 12, 12, 12],\n",
              "       [11, 21, 31, 41, 51, 61],\n",
              "       [13, 24, 34, 44, 54, 64]])"
            ]
          },
          "execution_count": 59,
          "metadata": {},
          "output_type": "execute_result"
        }
      ],
      "source": [
        "a"
      ]
    },
    {
      "cell_type": "code",
      "execution_count": null,
      "metadata": {
        "id": "trm8EsTQZKUR"
      },
      "outputs": [],
      "source": [
        "a[5//2,:]=1"
      ]
    },
    {
      "cell_type": "code",
      "execution_count": null,
      "metadata": {
        "id": "fQE7kWZlZKUR"
      },
      "outputs": [],
      "source": [
        "a[:,5//2]=1"
      ]
    },
    {
      "cell_type": "code",
      "execution_count": null,
      "metadata": {
        "id": "QMGun8eIZKUR",
        "outputId": "50710deb-7917-4266-c863-49c8b1e1266e"
      },
      "outputs": [
        {
          "data": {
            "text/plain": [
              "array([[ 1,  2,  1,  4,  5,  6],\n",
              "       [10, 20,  1, 40, 50, 60],\n",
              "       [ 1,  1,  1,  1,  1,  1],\n",
              "       [11, 21,  1, 41, 51, 61],\n",
              "       [13, 24,  1, 44, 54, 64]])"
            ]
          },
          "execution_count": 65,
          "metadata": {},
          "output_type": "execute_result"
        }
      ],
      "source": [
        "a"
      ]
    },
    {
      "cell_type": "code",
      "execution_count": null,
      "metadata": {
        "id": "NTAEHTSCZKUR",
        "outputId": "a59c930b-7d9a-42e5-ffda-6ef1ed691704"
      },
      "outputs": [
        {
          "name": "stdout",
          "output_type": "stream",
          "text": [
            "[[ 1  2  3  4  5  6]\n",
            " [10 20 30 40 50 60]\n",
            " [ 1  1  1  1  1  1]\n",
            " [11 21 31 41 51 61]\n",
            " [13 24 34 44 54 64]]\n"
          ]
        }
      ],
      "source": [
        "a[5//2,:] = 1\n",
        "print(a)"
      ]
    },
    {
      "cell_type": "code",
      "execution_count": null,
      "metadata": {
        "id": "ezym0UhBZKUR",
        "outputId": "53bf682d-0a02-4188-bbff-b4b9c0459f81"
      },
      "outputs": [
        {
          "name": "stdout",
          "output_type": "stream",
          "text": [
            "[[ 1  2  1  4  5  6]\n",
            " [10 20  1 40 50 60]\n",
            " [ 1  1  1  1  1  1]\n",
            " [11 21  1 41 51 61]\n",
            " [13 24  1 44 54 64]]\n"
          ]
        }
      ],
      "source": [
        "a[:,n//2] = 1\n",
        "print(a)"
      ]
    },
    {
      "cell_type": "markdown",
      "metadata": {
        "id": "XJMn-xWdZKUR"
      },
      "source": [
        "## Arithmetic Operations with NumPy - Maths + Stats"
      ]
    },
    {
      "cell_type": "code",
      "execution_count": null,
      "metadata": {
        "id": "MDvDuQGFZKUR",
        "outputId": "e224773b-a89c-496a-c5ba-7731662e7ffe"
      },
      "outputs": [
        {
          "data": {
            "text/plain": [
              "array([1, 2, 3, 4])"
            ]
          },
          "execution_count": 67,
          "metadata": {},
          "output_type": "execute_result"
        }
      ],
      "source": [
        "a = np.array([1,2,3,4])\n",
        "a"
      ]
    },
    {
      "cell_type": "code",
      "execution_count": null,
      "metadata": {
        "id": "w4pE60-zZKUS",
        "outputId": "05aa80d5-a444-43c5-b3d8-a215b6c008d4"
      },
      "outputs": [
        {
          "data": {
            "text/plain": [
              "array([3, 4, 5, 6])"
            ]
          },
          "execution_count": 68,
          "metadata": {},
          "output_type": "execute_result"
        }
      ],
      "source": [
        "a+2"
      ]
    },
    {
      "cell_type": "code",
      "execution_count": null,
      "metadata": {
        "id": "HB_kw9pWZKUS",
        "outputId": "7566f4a7-4889-4fb7-9f11-b5bee5bbb54f"
      },
      "outputs": [
        {
          "data": {
            "text/plain": [
              "array([ 1,  8, 27, 64], dtype=int32)"
            ]
          },
          "execution_count": 69,
          "metadata": {},
          "output_type": "execute_result"
        }
      ],
      "source": [
        "#DO it for -, /, *, //, ** - ALmost all the operations are satisfied\n",
        "\n",
        "a**3"
      ]
    },
    {
      "cell_type": "code",
      "execution_count": null,
      "metadata": {
        "id": "FhpWheAAZKUS",
        "outputId": "b5b362b1-24d7-4608-d1ba-2bb35bc21ae7"
      },
      "outputs": [
        {
          "data": {
            "text/plain": [
              "array([1, 2, 3, 4])"
            ]
          },
          "execution_count": 70,
          "metadata": {},
          "output_type": "execute_result"
        }
      ],
      "source": [
        "a"
      ]
    },
    {
      "cell_type": "code",
      "execution_count": null,
      "metadata": {
        "id": "4Ep4ee7_ZKUS",
        "outputId": "3dbae23f-7b8e-4d07-b3ff-90a3da68fe4b"
      },
      "outputs": [
        {
          "data": {
            "text/plain": [
              "1"
            ]
          },
          "execution_count": 71,
          "metadata": {},
          "output_type": "execute_result"
        }
      ],
      "source": [
        "a.min()"
      ]
    },
    {
      "cell_type": "code",
      "execution_count": null,
      "metadata": {
        "id": "quUMDKjxZKUS",
        "outputId": "2f0977ae-2bce-4a81-dfe8-da905dc5d2b3"
      },
      "outputs": [
        {
          "data": {
            "text/plain": [
              "1"
            ]
          },
          "execution_count": 72,
          "metadata": {},
          "output_type": "execute_result"
        }
      ],
      "source": [
        "np.min(a)"
      ]
    },
    {
      "cell_type": "code",
      "execution_count": null,
      "metadata": {
        "id": "9jodKeOMZKUS",
        "outputId": "0a2cdb39-d36a-4ef3-dc7b-2a840e32d6b9"
      },
      "outputs": [
        {
          "data": {
            "text/plain": [
              "4"
            ]
          },
          "execution_count": 73,
          "metadata": {},
          "output_type": "execute_result"
        }
      ],
      "source": [
        "a.max()"
      ]
    },
    {
      "cell_type": "code",
      "execution_count": null,
      "metadata": {
        "id": "jXiRlVNhZKUS",
        "outputId": "66444bcc-c8e7-4fbf-9a87-115f6b8c0a22"
      },
      "outputs": [
        {
          "data": {
            "text/plain": [
              "4"
            ]
          },
          "execution_count": 74,
          "metadata": {},
          "output_type": "execute_result"
        }
      ],
      "source": [
        "np.max(a)"
      ]
    },
    {
      "cell_type": "code",
      "execution_count": null,
      "metadata": {
        "id": "da2Th5PZZKUS",
        "outputId": "b19fd28c-8ef4-402d-e1b9-77b4cff2da82"
      },
      "outputs": [
        {
          "data": {
            "text/plain": [
              "2.5"
            ]
          },
          "execution_count": 75,
          "metadata": {},
          "output_type": "execute_result"
        }
      ],
      "source": [
        "a.mean()"
      ]
    },
    {
      "cell_type": "code",
      "execution_count": null,
      "metadata": {
        "id": "GlVHfUc8ZKUS",
        "outputId": "4a241908-a026-4834-e91c-50b651ea963a"
      },
      "outputs": [
        {
          "data": {
            "text/plain": [
              "2.5"
            ]
          },
          "execution_count": 76,
          "metadata": {},
          "output_type": "execute_result"
        }
      ],
      "source": [
        "np.mean(a)"
      ]
    },
    {
      "cell_type": "code",
      "execution_count": null,
      "metadata": {
        "id": "oerkN9khZKUS",
        "outputId": "03c0349d-32df-4ffc-c424-25b5fc44d2c8"
      },
      "outputs": [
        {
          "data": {
            "text/plain": [
              "array([[1, 2, 3, 4],\n",
              "       [5, 6, 7, 8]])"
            ]
          },
          "execution_count": 172,
          "metadata": {},
          "output_type": "execute_result"
        }
      ],
      "source": [
        "a = np.array([[1,2,3,4], [5,6,7,8]])\n",
        "a"
      ]
    },
    {
      "cell_type": "code",
      "execution_count": null,
      "metadata": {
        "id": "IOvSTDddZKUT",
        "outputId": "4ee5f67b-cf15-4bd8-895a-f9bf8861b9fa"
      },
      "outputs": [
        {
          "data": {
            "text/plain": [
              "8"
            ]
          },
          "execution_count": 173,
          "metadata": {},
          "output_type": "execute_result"
        }
      ],
      "source": [
        "np.max(a)"
      ]
    },
    {
      "cell_type": "code",
      "execution_count": null,
      "metadata": {
        "id": "OaUjKg8SZKUT",
        "outputId": "696965cd-f96c-432c-e12e-668d1cc65071"
      },
      "outputs": [
        {
          "data": {
            "text/plain": [
              "8"
            ]
          },
          "execution_count": 174,
          "metadata": {},
          "output_type": "execute_result"
        }
      ],
      "source": [
        "a.max()"
      ]
    },
    {
      "cell_type": "code",
      "execution_count": null,
      "metadata": {
        "id": "C-xq60iyZKUT",
        "outputId": "978d0179-8dd2-423a-80c7-9f5691a58754"
      },
      "outputs": [
        {
          "data": {
            "text/plain": [
              "1"
            ]
          },
          "execution_count": 175,
          "metadata": {},
          "output_type": "execute_result"
        }
      ],
      "source": [
        "np.min(a)"
      ]
    },
    {
      "cell_type": "code",
      "execution_count": null,
      "metadata": {
        "id": "RwYO-ltJZKUT",
        "outputId": "52c21cc5-8b54-4ea9-bca4-71395dd4dd16"
      },
      "outputs": [
        {
          "data": {
            "text/plain": [
              "4.5"
            ]
          },
          "execution_count": 176,
          "metadata": {},
          "output_type": "execute_result"
        }
      ],
      "source": [
        "np.mean(a)"
      ]
    },
    {
      "cell_type": "code",
      "execution_count": null,
      "metadata": {
        "id": "HDOggUk6ZKUT",
        "outputId": "2e9f11a0-10be-4239-d600-6e7677fbb351"
      },
      "outputs": [
        {
          "data": {
            "text/plain": [
              "36"
            ]
          },
          "execution_count": 72,
          "metadata": {},
          "output_type": "execute_result"
        }
      ],
      "source": [
        "np.sum(a)"
      ]
    },
    {
      "cell_type": "code",
      "execution_count": null,
      "metadata": {
        "id": "DSqWB8cAZKUT",
        "outputId": "1d8b8fe1-3c13-44c4-d75c-6e3fd7f30d79"
      },
      "outputs": [
        {
          "data": {
            "text/plain": [
              "array([4, 8])"
            ]
          },
          "execution_count": 73,
          "metadata": {},
          "output_type": "execute_result"
        }
      ],
      "source": [
        "np.max(a, axis=1)"
      ]
    },
    {
      "cell_type": "code",
      "execution_count": null,
      "metadata": {
        "id": "GinnkmiBZKUT",
        "outputId": "11400f3f-ed0b-430f-c8e8-c9393f4c1ccc"
      },
      "outputs": [
        {
          "data": {
            "text/plain": [
              "array([5, 6, 7, 8])"
            ]
          },
          "execution_count": 74,
          "metadata": {},
          "output_type": "execute_result"
        }
      ],
      "source": [
        "np.max(a, axis=0)"
      ]
    },
    {
      "cell_type": "code",
      "execution_count": null,
      "metadata": {
        "id": "VMoELds7ZKUT",
        "outputId": "a938741c-5598-431b-81e4-2ed2ef8949cf"
      },
      "outputs": [
        {
          "data": {
            "text/plain": [
              "array([1, 2, 3, 4])"
            ]
          },
          "execution_count": 75,
          "metadata": {},
          "output_type": "execute_result"
        }
      ],
      "source": [
        "np.min(a, axis=0)"
      ]
    },
    {
      "cell_type": "code",
      "execution_count": null,
      "metadata": {
        "id": "W8ROwEkpZKUT",
        "outputId": "20e7cfc9-96f0-4d01-9138-de53ce6f84f6"
      },
      "outputs": [
        {
          "data": {
            "text/plain": [
              "array([1, 5])"
            ]
          },
          "execution_count": 76,
          "metadata": {},
          "output_type": "execute_result"
        }
      ],
      "source": [
        "np.min(a, axis=1)"
      ]
    },
    {
      "cell_type": "code",
      "execution_count": null,
      "metadata": {
        "id": "93tkXh0HZKUT",
        "outputId": "47ca306c-2f80-48e8-bdba-6c021250afa1"
      },
      "outputs": [
        {
          "data": {
            "text/plain": [
              "array([10, 26])"
            ]
          },
          "execution_count": 77,
          "metadata": {},
          "output_type": "execute_result"
        }
      ],
      "source": [
        "np.sum(a, axis=1)"
      ]
    },
    {
      "cell_type": "code",
      "execution_count": null,
      "metadata": {
        "id": "G54hOP-YZKUT",
        "outputId": "cacc9fea-35f5-4c8c-bc42-2df37163b6a5"
      },
      "outputs": [
        {
          "data": {
            "text/plain": [
              "array([ 6,  8, 10, 12])"
            ]
          },
          "execution_count": 78,
          "metadata": {},
          "output_type": "execute_result"
        }
      ],
      "source": [
        "np.sum(a, axis=0)"
      ]
    },
    {
      "cell_type": "code",
      "execution_count": null,
      "metadata": {
        "id": "FS9NpBi9ZKUT"
      },
      "outputs": [],
      "source": []
    }
  ],
  "metadata": {
    "kernelspec": {
      "display_name": "Python 3",
      "language": "python",
      "name": "python3"
    },
    "language_info": {
      "codemirror_mode": {
        "name": "ipython",
        "version": 3
      },
      "file_extension": ".py",
      "mimetype": "text/x-python",
      "name": "python",
      "nbconvert_exporter": "python",
      "pygments_lexer": "ipython3",
      "version": "3.7.3"
    },
    "colab": {
      "provenance": [],
      "include_colab_link": true
    }
  },
  "nbformat": 4,
  "nbformat_minor": 0
}