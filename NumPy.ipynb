{
  "cells": [
    {
      "cell_type": "markdown",
      "metadata": {
        "id": "-6yX_d18ZKUF"
      },
      "source": [
        "<h1 style = \"color : Brown\">NumPy</h1>"
      ]
    },
    {
      "cell_type": "markdown",
      "metadata": {
        "id": "sTu2WmjtZKUG"
      },
      "source": [
        "- __NumPy__ is a Python library.\n",
        "- It is used for working with arrays.\n",
        "- It is short for \"Numerical Python\".\n",
        "- It is used for computation and processing of single and multi dimensional array of elements.\n",
        "- Smaller memory consumption and better runtime behavior.\n",
        "- Faster than loops, list comprehension, etc."
      ]
    },
    {
      "cell_type": "code",
      "execution_count": 4,
      "metadata": {
        "id": "nSJCb1OKZKUG"
      },
      "outputs": [],
      "source": [
        "# To install the library\n",
        "\n",
        "!pip install -q numpy"
      ]
    },
    {
      "cell_type": "markdown",
      "metadata": {
        "id": "G7t9z92pZKUH"
      },
      "source": [
        "## Basic Operations"
      ]
    },
    {
      "cell_type": "code",
      "execution_count": 2,
      "metadata": {
        "id": "FVztM-80ZKUH"
      },
      "outputs": [],
      "source": [
        "import numpy as np"
      ]
    },
    {
      "cell_type": "code",
      "execution_count": 10,
      "metadata": {
        "scrolled": true,
        "colab": {
          "base_uri": "https://localhost:8080/"
        },
        "id": "bbbBjhAJZKUH",
        "outputId": "03b60820-e02e-4e5e-ca55-7855ae5797fd"
      },
      "outputs": [
        {
          "output_type": "stream",
          "name": "stdout",
          "text": [
            "[[1 2 3 4]]\n"
          ]
        },
        {
          "output_type": "execute_result",
          "data": {
            "text/plain": [
              "numpy.ndarray"
            ]
          },
          "metadata": {},
          "execution_count": 10
        }
      ],
      "source": [
        "a = np.array([[1,2,3,4]])\n",
        "print(a)\n",
        "type(a)"
      ]
    },
    {
      "cell_type": "code",
      "execution_count": null,
      "metadata": {
        "id": "TUQG_80MZKUH",
        "outputId": "98085c8e-ea01-411d-8982-659ee9a62e13"
      },
      "outputs": [
        {
          "data": {
            "text/plain": [
              "numpy.ndarray"
            ]
          },
          "execution_count": 4,
          "metadata": {},
          "output_type": "execute_result"
        }
      ],
      "source": [
        "type(a)"
      ]
    },
    {
      "cell_type": "code",
      "execution_count": 26,
      "metadata": {
        "colab": {
          "base_uri": "https://localhost:8080/"
        },
        "id": "wLWhUlo6ZKUH",
        "outputId": "a4db7c8b-96b6-42cd-a6d4-63d999e85b6b"
      },
      "outputs": [
        {
          "output_type": "stream",
          "name": "stdout",
          "text": [
            "[1. 2. 3.]\n"
          ]
        }
      ],
      "source": [
        "a = np.array([1,2,3], dtype = float)\n",
        "print(a)\n"
      ]
    },
    {
      "cell_type": "code",
      "execution_count": 21,
      "metadata": {
        "colab": {
          "base_uri": "https://localhost:8080/"
        },
        "id": "otlZM7zkZKUH",
        "outputId": "5a3b8a03-6c7c-497f-bd5e-6ab3b942af5a"
      },
      "outputs": [
        {
          "output_type": "stream",
          "name": "stdout",
          "text": [
            "[[ 1  2  3]\n",
            " [ 4  5  6]\n",
            " [ 8  9 10]]\n"
          ]
        }
      ],
      "source": [
        "b = np.array([[1,2,3], [4,5,6],[8,9,10]])\n",
        "print(b)"
      ]
    },
    {
      "cell_type": "code",
      "execution_count": 22,
      "metadata": {
        "colab": {
          "base_uri": "https://localhost:8080/"
        },
        "id": "gQo7hkwyZKUH",
        "outputId": "e20a23c0-8c90-494b-ebe7-df1ab4151a51"
      },
      "outputs": [
        {
          "output_type": "execute_result",
          "data": {
            "text/plain": [
              "numpy.ndarray"
            ]
          },
          "metadata": {},
          "execution_count": 22
        }
      ],
      "source": [
        "type(b)"
      ]
    },
    {
      "cell_type": "code",
      "execution_count": 23,
      "metadata": {
        "colab": {
          "base_uri": "https://localhost:8080/"
        },
        "id": "isHl46foZKUI",
        "outputId": "10b7988f-296f-4a49-ac69-45dfba7c7d56"
      },
      "outputs": [
        {
          "output_type": "stream",
          "name": "stdout",
          "text": [
            "[[[1 2 3]\n",
            "  [4 5 6]\n",
            "  [7 8 9]]]\n"
          ]
        },
        {
          "output_type": "execute_result",
          "data": {
            "text/plain": [
              "numpy.ndarray"
            ]
          },
          "metadata": {},
          "execution_count": 23
        }
      ],
      "source": [
        "c = np.array([[[1,2,3], [4,5,6], [7,8,9]]])\n",
        "print(c)\n",
        "type(c)"
      ]
    },
    {
      "cell_type": "code",
      "execution_count": 24,
      "metadata": {
        "colab": {
          "base_uri": "https://localhost:8080/"
        },
        "id": "Htg4xr8PZKUI",
        "outputId": "d10f7d06-e349-4880-b7c3-9abf8476e9eb"
      },
      "outputs": [
        {
          "output_type": "stream",
          "name": "stdout",
          "text": [
            "4\n",
            "2\n",
            "3\n"
          ]
        }
      ],
      "source": [
        "#Get Dimensions of a numpy array\n",
        "print(a.ndim)\n",
        "print(b.ndim)\n",
        "print(c.ndim)"
      ]
    },
    {
      "cell_type": "code",
      "execution_count": null,
      "metadata": {
        "id": "drr-xOqyZKUI",
        "outputId": "fd9d6d65-555a-43b2-ceb5-fa03e388c7af"
      },
      "outputs": [
        {
          "data": {
            "text/plain": [
              "2"
            ]
          },
          "execution_count": 10,
          "metadata": {},
          "output_type": "execute_result"
        }
      ],
      "source": [
        "#Get Dimensions of a numpy array\n",
        "b.ndim"
      ]
    },
    {
      "cell_type": "code",
      "execution_count": 31,
      "metadata": {
        "colab": {
          "base_uri": "https://localhost:8080/"
        },
        "id": "ilHSq9U0ZKUI",
        "outputId": "01f01c4a-0c02-4e74-f582-060110686d73"
      },
      "outputs": [
        {
          "output_type": "execute_result",
          "data": {
            "text/plain": [
              "2"
            ]
          },
          "metadata": {},
          "execution_count": 31
        }
      ],
      "source": [
        "c.ndim"
      ]
    },
    {
      "cell_type": "code",
      "execution_count": 3,
      "metadata": {
        "colab": {
          "base_uri": "https://localhost:8080/"
        },
        "id": "GryuWTxGZKUI",
        "outputId": "b961764e-6828-4e34-d285-94e0106fa1b6"
      },
      "outputs": [
        {
          "output_type": "stream",
          "name": "stdout",
          "text": [
            "[[[[1 2 3]\n",
            "   [4 5 6]\n",
            "   [7 8 9]]]]\n",
            "4\n"
          ]
        }
      ],
      "source": [
        "d = np.array([[[[1,2,3], [4,5,6], [7,8,9]]]])\n",
        "print(d)\n",
        "print(d.ndim)"
      ]
    },
    {
      "cell_type": "code",
      "execution_count": 4,
      "metadata": {
        "colab": {
          "base_uri": "https://localhost:8080/"
        },
        "id": "Yk90FNUkZKUI",
        "outputId": "49114fa8-2bb7-4112-ac96-018c3c1ef157"
      },
      "outputs": [
        {
          "output_type": "execute_result",
          "data": {
            "text/plain": [
              "4"
            ]
          },
          "metadata": {},
          "execution_count": 4
        }
      ],
      "source": [
        "d.ndim"
      ]
    },
    {
      "cell_type": "markdown",
      "metadata": {
        "id": "WQ9VjD_UZKUI"
      },
      "source": [
        "## Why Use NumPy?"
      ]
    },
    {
      "cell_type": "markdown",
      "metadata": {
        "id": "Ozkaalr1ZKUI"
      },
      "source": [
        "- In Traditional Python Programming, we have lists that serve the purpose of arrays, but they are slow to process.\n",
        "- NumPy aims to provide an array object that is up to __50x__ faster than traditional Python lists.\n",
        "- The array object in NumPy is called ndarray, it provides a lot of supporting functions that make working with ndarray very easy.\n",
        "- Arrays are very frequently used in data science, where speed and resources are very important."
      ]
    },
    {
      "cell_type": "markdown",
      "metadata": {
        "id": "3dkKih1HZKUI"
      },
      "source": [
        "## Time taken for the loop\n",
        "\n",
        "- Dimension (axis) = how many levels of nesting your data has.\n",
        "- Shape = how many elements are along each axis\n",
        "- NumPy just counts how deeply nested your brackets are.\n",
        "- Each new [ introduces a new dimension.\n",
        "- Inside, it checks the lengths to determine the size along each axis.\n",
        "\n",
        "\n",
        "| Array type | Example                                     | Shape       | Meaning                             |\n",
        "| ---------- | ------------------------------------------- | ----------- | ----------------------------------- |\n",
        "| **1D**     | `[1, 2, 3]`                                 | `(3,)`      | 3 numbers in a row                  |\n",
        "| **2D**     | `[[1,2,3],[4,5,6]]`                         | `(2,3)`     | 2 rows × 3 columns                  |\n",
        "| **3D**     | `[[[1,2,3],[4,5,6]], [[7,8,9],[10,11,12]]]` | `(2,2,3)`   | 2 blocks × 2 rows × 3 cols          |\n",
        "| **4D**     | `[[[[1,2,3],[4,5,6],[7,8,9]]]]`             | `(1,1,3,3)` | 1 group × 1 block × 3 rows × 3 cols |\n",
        "\n",
        "\n",
        "\n",
        "print(d.ndim)   # number of dimensions\n",
        "\n",
        "\n",
        "print(d.shape)  # size of each dimension\n",
        "\n",
        "\n",
        "print(d.size)   # total number of elements\n"
      ]
    },
    {
      "cell_type": "markdown",
      "source": [],
      "metadata": {
        "id": "ZOLKphvs2aHB"
      }
    },
    {
      "cell_type": "code",
      "execution_count": 34,
      "metadata": {
        "colab": {
          "base_uri": "https://localhost:8080/"
        },
        "id": "kp94QRIsZKUJ",
        "outputId": "6b23c60b-6922-4dbf-c2c2-4cff3db1b25b"
      },
      "outputs": [
        {
          "output_type": "stream",
          "name": "stdout",
          "text": [
            "[[ 1  2  3]\n",
            " [ 4  5  6]\n",
            " [ 8  9 10]]\n",
            "2\n"
          ]
        }
      ],
      "source": [
        "a = np.array([[ 1,  2,  3],\n",
        "       [ 4,  5,  6],\n",
        "       [ 8,  9, 10]])\n",
        "print(a)\n",
        "print(a.ndim)"
      ]
    },
    {
      "cell_type": "code",
      "execution_count": 37,
      "metadata": {
        "colab": {
          "base_uri": "https://localhost:8080/"
        },
        "id": "2gXR_mH8ZKUJ",
        "outputId": "138d7ca3-974f-489b-fd43-0d5f1202769d"
      },
      "outputs": [
        {
          "output_type": "execute_result",
          "data": {
            "text/plain": [
              "(3, 3)"
            ]
          },
          "metadata": {},
          "execution_count": 37
        }
      ],
      "source": [
        "#Get a shape of a numpy array\n",
        "a.shape"
      ]
    },
    {
      "cell_type": "code",
      "execution_count": 38,
      "metadata": {
        "colab": {
          "base_uri": "https://localhost:8080/"
        },
        "id": "vGlZZD-NZKUJ",
        "outputId": "731bdbdc-22cc-48be-cff0-88e837de5d66"
      },
      "outputs": [
        {
          "output_type": "execute_result",
          "data": {
            "text/plain": [
              "array([[ 1,  2,  3],\n",
              "       [ 4,  5,  6],\n",
              "       [ 8,  9, 10]])"
            ]
          },
          "metadata": {},
          "execution_count": 38
        }
      ],
      "source": [
        "b"
      ]
    },
    {
      "cell_type": "code",
      "execution_count": 39,
      "metadata": {
        "colab": {
          "base_uri": "https://localhost:8080/"
        },
        "id": "8FWLvlufZKUJ",
        "outputId": "0ded66cf-2f89-4284-f006-6584829e7991"
      },
      "outputs": [
        {
          "output_type": "execute_result",
          "data": {
            "text/plain": [
              "(3, 3)"
            ]
          },
          "metadata": {},
          "execution_count": 39
        }
      ],
      "source": [
        "b.shape"
      ]
    },
    {
      "cell_type": "code",
      "execution_count": 40,
      "metadata": {
        "colab": {
          "base_uri": "https://localhost:8080/"
        },
        "id": "aKnrSKtWZKUJ",
        "outputId": "1794beaa-f4a3-49d1-e6fe-1e69a7ab98a3"
      },
      "outputs": [
        {
          "output_type": "execute_result",
          "data": {
            "text/plain": [
              "array([[[1, 2, 3],\n",
              "        [4, 5, 6],\n",
              "        [7, 8, 9]]])"
            ]
          },
          "metadata": {},
          "execution_count": 40
        }
      ],
      "source": [
        "c"
      ]
    },
    {
      "cell_type": "code",
      "execution_count": 42,
      "metadata": {
        "colab": {
          "base_uri": "https://localhost:8080/"
        },
        "id": "AonOA6M5ZKUJ",
        "outputId": "0ac4daee-92c3-493a-dd3f-f32b465f3493"
      },
      "outputs": [
        {
          "output_type": "stream",
          "name": "stdout",
          "text": [
            "(1, 3, 3)\n",
            "3\n",
            "9\n"
          ]
        }
      ],
      "source": [
        "print(c.shape)\n",
        "print(c.ndim)\n",
        "print(c.size)"
      ]
    },
    {
      "cell_type": "code",
      "execution_count": 43,
      "metadata": {
        "colab": {
          "base_uri": "https://localhost:8080/"
        },
        "id": "mdLBMO-gZKUJ",
        "outputId": "f4d0f2e8-1129-4e62-a06f-989d4b6e71a4"
      },
      "outputs": [
        {
          "output_type": "execute_result",
          "data": {
            "text/plain": [
              "array([[ 1,  2,  3],\n",
              "       [ 4,  5,  6],\n",
              "       [ 8,  9, 10]])"
            ]
          },
          "metadata": {},
          "execution_count": 43
        }
      ],
      "source": [
        "a"
      ]
    },
    {
      "cell_type": "code",
      "execution_count": 44,
      "metadata": {
        "colab": {
          "base_uri": "https://localhost:8080/"
        },
        "id": "60KJ-l_OZKUJ",
        "outputId": "8be201db-a777-4c00-dafd-2c24de46b31e"
      },
      "outputs": [
        {
          "output_type": "execute_result",
          "data": {
            "text/plain": [
              "array([[ 1,  2,  3],\n",
              "       [ 4,  5,  6],\n",
              "       [ 8,  9, 10]])"
            ]
          },
          "metadata": {},
          "execution_count": 44
        }
      ],
      "source": [
        "a"
      ]
    },
    {
      "cell_type": "code",
      "execution_count": 45,
      "metadata": {
        "colab": {
          "base_uri": "https://localhost:8080/"
        },
        "id": "pjJJLe9nZKUJ",
        "outputId": "6866b657-c36d-41d2-cd02-556c3cb71b61"
      },
      "outputs": [
        {
          "output_type": "execute_result",
          "data": {
            "text/plain": [
              "dtype('int64')"
            ]
          },
          "metadata": {},
          "execution_count": 45
        }
      ],
      "source": [
        "a.dtype"
      ]
    },
    {
      "cell_type": "code",
      "execution_count": 46,
      "metadata": {
        "colab": {
          "base_uri": "https://localhost:8080/"
        },
        "id": "w6xiR_fHZKUK",
        "outputId": "c91280e5-1554-4a49-ccdb-d13f2444383b"
      },
      "outputs": [
        {
          "output_type": "stream",
          "name": "stdout",
          "text": [
            "[1.1 2.1 3.4]\n"
          ]
        }
      ],
      "source": [
        "a_int = np.array([1.1,2.1,3.4])\n",
        "print(a_int)"
      ]
    },
    {
      "cell_type": "code",
      "execution_count": 47,
      "metadata": {
        "colab": {
          "base_uri": "https://localhost:8080/"
        },
        "id": "0j_sYxfKZKUK",
        "outputId": "ccef7612-b6ff-4221-eddd-a3dd50c251cb"
      },
      "outputs": [
        {
          "output_type": "execute_result",
          "data": {
            "text/plain": [
              "dtype('float64')"
            ]
          },
          "metadata": {},
          "execution_count": 47
        }
      ],
      "source": [
        "a_int.dtype"
      ]
    },
    {
      "cell_type": "markdown",
      "metadata": {
        "id": "EjYdfz9tZKUK"
      },
      "source": [
        "## Accessing/Changing specific elements, rows & columns etc."
      ]
    },
    {
      "cell_type": "code",
      "execution_count": 50,
      "metadata": {
        "colab": {
          "base_uri": "https://localhost:8080/"
        },
        "id": "oC0_1RhsZKUK",
        "outputId": "39790b6c-a73c-4228-fbc1-5f2a752cde4b"
      },
      "outputs": [
        {
          "output_type": "stream",
          "name": "stdout",
          "text": [
            "[[ 1  2  3  4  5  6  7]\n",
            " [ 8  9 10 11 12 13 14]]\n"
          ]
        }
      ],
      "source": [
        "a = np.array([[1,2,3,4,5,6,7], [8,9,10,11,12,13,14]])\n",
        "print(a)"
      ]
    },
    {
      "cell_type": "code",
      "execution_count": 52,
      "metadata": {
        "colab": {
          "base_uri": "https://localhost:8080/"
        },
        "id": "StnA2xkQZKUK",
        "outputId": "0eec1a7e-4a79-4b8a-9d11-034097891d14"
      },
      "outputs": [
        {
          "output_type": "execute_result",
          "data": {
            "text/plain": [
              "(2, 7)"
            ]
          },
          "metadata": {},
          "execution_count": 52
        }
      ],
      "source": [
        "a.ndim\n",
        "a.shape"
      ]
    },
    {
      "cell_type": "code",
      "execution_count": 65,
      "metadata": {
        "colab": {
          "base_uri": "https://localhost:8080/"
        },
        "id": "rroeL3AHZKUK",
        "outputId": "74785d75-31d7-4a0e-aa53-83ca2bb1d25d"
      },
      "outputs": [
        {
          "output_type": "stream",
          "name": "stdout",
          "text": [
            "4\n",
            "[3 5] [10 12]\n",
            "(2, 7)\n"
          ]
        }
      ],
      "source": [
        "#Get a specific element [r,c]\n",
        "print(a[0,3])\n",
        "print(a[0,2:-1:2],a[1,2:-1:2])\n",
        "print(a.shape)"
      ]
    },
    {
      "cell_type": "code",
      "execution_count": 66,
      "metadata": {
        "colab": {
          "base_uri": "https://localhost:8080/"
        },
        "id": "wDF66LqGZKUK",
        "outputId": "20314a61-b745-477d-ec1b-fe29ffc22f6d"
      },
      "outputs": [
        {
          "output_type": "execute_result",
          "data": {
            "text/plain": [
              "np.int64(8)"
            ]
          },
          "metadata": {},
          "execution_count": 66
        }
      ],
      "source": [
        "a[1,0]"
      ]
    },
    {
      "cell_type": "code",
      "execution_count": 68,
      "metadata": {
        "colab": {
          "base_uri": "https://localhost:8080/"
        },
        "id": "cEG7mwp6ZKUO",
        "outputId": "15b18f9c-e621-44b1-db08-2acaa2362c4f"
      },
      "outputs": [
        {
          "output_type": "stream",
          "name": "stdout",
          "text": [
            "13\n"
          ]
        }
      ],
      "source": [
        "print(a[1,5])"
      ]
    },
    {
      "cell_type": "code",
      "execution_count": 73,
      "metadata": {
        "colab": {
          "base_uri": "https://localhost:8080/"
        },
        "id": "aGA8wv0jZKUO",
        "outputId": "cfd2bcc3-bdce-4f9f-bd26-e33e432368b4"
      },
      "outputs": [
        {
          "output_type": "execute_result",
          "data": {
            "text/plain": [
              "array([1, 2, 3, 4, 5, 6, 7])"
            ]
          },
          "metadata": {},
          "execution_count": 73
        }
      ],
      "source": [
        "#Get a specific row from a numpy array\n",
        "a[0,:]"
      ]
    },
    {
      "cell_type": "code",
      "execution_count": 74,
      "metadata": {
        "colab": {
          "base_uri": "https://localhost:8080/"
        },
        "id": "wiQ9wC-7ZKUO",
        "outputId": "94edd27e-7369-4426-f127-b566ac52a0f0"
      },
      "outputs": [
        {
          "output_type": "execute_result",
          "data": {
            "text/plain": [
              "array([1, 8])"
            ]
          },
          "metadata": {},
          "execution_count": 74
        }
      ],
      "source": [
        "#Get a specific column from a numpy array\n",
        "\n",
        "a[:,0]"
      ]
    },
    {
      "cell_type": "code",
      "execution_count": 75,
      "metadata": {
        "colab": {
          "base_uri": "https://localhost:8080/"
        },
        "id": "_2hnN1yvZKUO",
        "outputId": "7fb997a5-db33-4e05-87b5-ab5e551debe9"
      },
      "outputs": [
        {
          "output_type": "execute_result",
          "data": {
            "text/plain": [
              "array([1, 8])"
            ]
          },
          "metadata": {},
          "execution_count": 75
        }
      ],
      "source": [
        "#Get a specific column from a numpy array\n",
        "a[:,0]"
      ]
    },
    {
      "cell_type": "code",
      "execution_count": 76,
      "metadata": {
        "colab": {
          "base_uri": "https://localhost:8080/"
        },
        "id": "U-S0K7F-ZKUP",
        "outputId": "a0ad5ee7-94ce-4a3e-de78-b02727205a24"
      },
      "outputs": [
        {
          "output_type": "execute_result",
          "data": {
            "text/plain": [
              "array([[ 1,  2,  3,  4,  5,  6,  7],\n",
              "       [ 8,  9, 10, 11, 12, 13, 14]])"
            ]
          },
          "metadata": {},
          "execution_count": 76
        }
      ],
      "source": [
        "a"
      ]
    },
    {
      "cell_type": "code",
      "execution_count": 77,
      "metadata": {
        "colab": {
          "base_uri": "https://localhost:8080/"
        },
        "id": "a8JfkidyZKUP",
        "outputId": "11cf1ead-33c7-4d85-d907-1bed1137e055"
      },
      "outputs": [
        {
          "output_type": "stream",
          "name": "stdout",
          "text": [
            "[[ 1  2  3 40  5  6  7]\n",
            " [ 8  9 10 11 12 13 14]]\n"
          ]
        }
      ],
      "source": [
        "a[0,3] = 40\n",
        "print(a)"
      ]
    },
    {
      "cell_type": "code",
      "execution_count": 78,
      "metadata": {
        "id": "7wIo6q_WZKUP"
      },
      "outputs": [],
      "source": [
        "#Change the 5th column in 1st row to 50\n",
        "a[0,4] = 50"
      ]
    },
    {
      "cell_type": "code",
      "execution_count": 81,
      "metadata": {
        "colab": {
          "base_uri": "https://localhost:8080/"
        },
        "id": "NQYhC14bZKUP",
        "outputId": "c7ad472e-dd92-4625-c826-dfd4c8dfa3ef"
      },
      "outputs": [
        {
          "output_type": "execute_result",
          "data": {
            "text/plain": [
              "array([[ 1,  2,  3, 40, 50,  6,  7],\n",
              "       [ 8,  9, 10, 11, 12, 13, 14]])"
            ]
          },
          "metadata": {},
          "execution_count": 81
        }
      ],
      "source": [
        "a"
      ]
    },
    {
      "cell_type": "markdown",
      "metadata": {
        "id": "qfk8veltZKUP"
      },
      "source": [
        "## Zeros/Ones method in NumPy"
      ]
    },
    {
      "cell_type": "code",
      "execution_count": 83,
      "metadata": {
        "colab": {
          "base_uri": "https://localhost:8080/"
        },
        "id": "PC-6okfLZKUP",
        "outputId": "c2e4d7f6-3f7c-4bdf-fb3c-aafd00b57627"
      },
      "outputs": [
        {
          "output_type": "execute_result",
          "data": {
            "text/plain": [
              "array([[0, 0, 0],\n",
              "       [0, 0, 0],\n",
              "       [0, 0, 0]])"
            ]
          },
          "metadata": {},
          "execution_count": 83
        }
      ],
      "source": [
        "np.zeros((3,3),dtype=int)"
      ]
    },
    {
      "cell_type": "code",
      "execution_count": 85,
      "metadata": {
        "colab": {
          "base_uri": "https://localhost:8080/"
        },
        "id": "c2muZeRzZKUP",
        "outputId": "acf58f97-62f3-43d5-a530-fd0901ccdd88"
      },
      "outputs": [
        {
          "output_type": "execute_result",
          "data": {
            "text/plain": [
              "array([[1, 1, 1],\n",
              "       [1, 1, 1],\n",
              "       [1, 1, 1]])"
            ]
          },
          "metadata": {},
          "execution_count": 85
        }
      ],
      "source": [
        "np.ones((3,3),dtype=int)"
      ]
    },
    {
      "cell_type": "code",
      "execution_count": 86,
      "metadata": {
        "colab": {
          "base_uri": "https://localhost:8080/"
        },
        "id": "whIrYuAnZKUP",
        "outputId": "70c8b1c5-0b6c-48f4-ad0c-1d29e452bc50"
      },
      "outputs": [
        {
          "output_type": "execute_result",
          "data": {
            "text/plain": [
              "array([[1, 1, 1],\n",
              "       [1, 1, 1],\n",
              "       [1, 1, 1]], dtype=int32)"
            ]
          },
          "metadata": {},
          "execution_count": 86
        }
      ],
      "source": [
        "np.ones((3,3), dtype='int32')"
      ]
    },
    {
      "cell_type": "code",
      "execution_count": 88,
      "metadata": {
        "colab": {
          "base_uri": "https://localhost:8080/"
        },
        "id": "dYfDOfvWZKUP",
        "outputId": "1a3037bf-7008-465b-c58d-5ecf43e23977"
      },
      "outputs": [
        {
          "output_type": "execute_result",
          "data": {
            "text/plain": [
              "array([[50., 50., 50.],\n",
              "       [50., 50., 50.],\n",
              "       [50., 50., 50.]])"
            ]
          },
          "metadata": {},
          "execution_count": 88
        }
      ],
      "source": [
        "np.full((3,3), 50, dtype='float64')"
      ]
    },
    {
      "cell_type": "code",
      "execution_count": 89,
      "metadata": {
        "colab": {
          "base_uri": "https://localhost:8080/"
        },
        "id": "MJVXCcetZKUP",
        "outputId": "03ad1ad7-3a09-46b3-da70-6cc4fe87bd97"
      },
      "outputs": [
        {
          "output_type": "execute_result",
          "data": {
            "text/plain": [
              "array([[50, 50, 50],\n",
              "       [50, 50, 50],\n",
              "       [50, 50, 50]], dtype=int32)"
            ]
          },
          "metadata": {},
          "execution_count": 89
        }
      ],
      "source": [
        "np.full((3,3), 50, dtype='int32')"
      ]
    },
    {
      "cell_type": "code",
      "execution_count": 90,
      "metadata": {
        "colab": {
          "base_uri": "https://localhost:8080/"
        },
        "id": "rMuLggM8ZKUP",
        "outputId": "ba8e860b-f2a0-4f3b-c679-9a09800da00d"
      },
      "outputs": [
        {
          "output_type": "execute_result",
          "data": {
            "text/plain": [
              "array([[0.83549069, 0.04211113, 0.49230279, 0.68126524],\n",
              "       [0.77330282, 0.55963679, 0.05780607, 0.51427061],\n",
              "       [0.37608483, 0.90040838, 0.73861951, 0.52935372],\n",
              "       [0.14175225, 0.66323476, 0.56864269, 0.73801672]])"
            ]
          },
          "metadata": {},
          "execution_count": 90
        }
      ],
      "source": [
        "np.random.rand(4,4)"
      ]
    },
    {
      "cell_type": "code",
      "execution_count": 92,
      "metadata": {
        "colab": {
          "base_uri": "https://localhost:8080/"
        },
        "id": "qAvLbgZeZKUP",
        "outputId": "8ae8039c-5348-4e95-aa48-6f658fe30779"
      },
      "outputs": [
        {
          "output_type": "execute_result",
          "data": {
            "text/plain": [
              "array([[-3, -2,  0],\n",
              "       [-2, -3, -1],\n",
              "       [-1, -1,  0]])"
            ]
          },
          "metadata": {},
          "execution_count": 92
        }
      ],
      "source": [
        "np.random.randint(-4,1, size=(3,3))"
      ]
    },
    {
      "cell_type": "code",
      "execution_count": 91,
      "metadata": {
        "colab": {
          "base_uri": "https://localhost:8080/"
        },
        "id": "phU8XRVQZKUQ",
        "outputId": "fee1c15a-9152-41e4-fdad-1252b15f1a2a"
      },
      "outputs": [
        {
          "output_type": "execute_result",
          "data": {
            "text/plain": [
              "array([[1., 0., 0., 0., 0.],\n",
              "       [0., 1., 0., 0., 0.],\n",
              "       [0., 0., 1., 0., 0.],\n",
              "       [0., 0., 0., 1., 0.],\n",
              "       [0., 0., 0., 0., 1.]])"
            ]
          },
          "metadata": {},
          "execution_count": 91
        }
      ],
      "source": [
        "np.identity(5)"
      ]
    },
    {
      "cell_type": "markdown",
      "metadata": {
        "id": "cBiuliJlZKUQ"
      },
      "source": [
        "## Practice Questions"
      ]
    },
    {
      "cell_type": "markdown",
      "metadata": {
        "id": "8iuWW92nZKUQ"
      },
      "source": [
        "## Question #1\n",
        "\n",
        "Extract all the first 3 rows of the last 5 columns in a given numpy 2D array ‘a’?"
      ]
    },
    {
      "cell_type": "code",
      "execution_count": 93,
      "metadata": {
        "colab": {
          "base_uri": "https://localhost:8080/"
        },
        "id": "zdTuJch4ZKUQ",
        "outputId": "d4ba64d3-1bf0-489d-8746-4c5386d4497d"
      },
      "outputs": [
        {
          "output_type": "execute_result",
          "data": {
            "text/plain": [
              "(12, 12, 12, 12, 12)"
            ]
          },
          "metadata": {},
          "execution_count": 93
        }
      ],
      "source": [
        "2,3,4,5,6\n",
        "20,30,40,50,60\n",
        "12,12,12,12,12"
      ]
    },
    {
      "cell_type": "code",
      "execution_count": 95,
      "metadata": {
        "colab": {
          "base_uri": "https://localhost:8080/"
        },
        "id": "WkX9kP9IZKUQ",
        "outputId": "90300d81-8b8b-4b3f-a0e6-aee5ddd345c6"
      },
      "outputs": [
        {
          "output_type": "stream",
          "name": "stdout",
          "text": [
            "[[ 1  2  3  4  5]\n",
            " [10 20 30 40 50]\n",
            " [12 12 12 12 12]]\n"
          ]
        }
      ],
      "source": [
        "a= np.array([[1,2,3,4,5,6],\n",
        "             [10,20,30,40,50,60],\n",
        "             [12,12,12,12,12,12],\n",
        "             [11,21,31,41,51,61],\n",
        "             [13,24,34,44,54,64]])\n",
        "# GBRC -> group, block, row, column\n",
        "print(a[:3,-6:-1])"
      ]
    },
    {
      "cell_type": "code",
      "execution_count": null,
      "metadata": {
        "id": "D2GrB3q7ZKUQ",
        "outputId": "a04353dd-26c3-4be0-bb41-a7379bc6389f"
      },
      "outputs": [
        {
          "data": {
            "text/plain": [
              "array([[ 1,  2,  3,  4,  5,  6],\n",
              "       [10, 20, 30, 40, 50, 60],\n",
              "       [12, 12, 12, 12, 12, 12],\n",
              "       [11, 21, 31, 41, 51, 61],\n",
              "       [13, 24, 34, 44, 54, 64]])"
            ]
          },
          "execution_count": 47,
          "metadata": {},
          "output_type": "execute_result"
        }
      ],
      "source": [
        "a"
      ]
    },
    {
      "cell_type": "code",
      "execution_count": null,
      "metadata": {
        "id": "BotccDhyZKUQ",
        "outputId": "dfd9379d-4bac-4110-92d5-26fcb951860a"
      },
      "outputs": [
        {
          "data": {
            "text/plain": [
              "array([[ 2,  3,  4,  5,  6],\n",
              "       [20, 30, 40, 50, 60],\n",
              "       [12, 12, 12, 12, 12]])"
            ]
          },
          "execution_count": 49,
          "metadata": {},
          "output_type": "execute_result"
        }
      ],
      "source": [
        "a[ :3 , -5: ]"
      ]
    },
    {
      "cell_type": "markdown",
      "metadata": {
        "id": "EI-B03i6ZKUQ"
      },
      "source": [
        "## Question #2\n",
        "\n",
        "Given a positive number 'n' greater than 2, create a NumPy array of size (nxn) with all zeros and ones such that the ones make a shape of \"+\"\n",
        "\n",
        "Examples:\n",
        "\n",
        "Input 1:\n",
        "\n",
        "3\n",
        "\n",
        "Output 1:\n",
        "\n",
        "[[0 1 0]\n",
        "\n",
        " [1 1 1]\n",
        "\n",
        " [0 1 0]]\n",
        "\n",
        "Input 2:\n",
        "\n",
        "5\n",
        "\n",
        "Output 1:\n",
        "\n",
        "[[0 0 1 0 0]\n",
        "\n",
        " [0 0 1 0 0]\n",
        "\n",
        " [1 1 1 1 1]\n",
        "\n",
        " [0 0 1 0 0]\n",
        "\n",
        " [0 0 1 0 0]]"
      ]
    },
    {
      "cell_type": "code",
      "execution_count": null,
      "metadata": {
        "id": "_ZumJvnDZKUR"
      },
      "outputs": [],
      "source": [
        "n=5"
      ]
    },
    {
      "cell_type": "code",
      "execution_count": null,
      "metadata": {
        "id": "0xpSMqjlZKUR",
        "outputId": "ea8905a1-c2b8-484a-f659-79bfd09fa6b8"
      },
      "outputs": [
        {
          "name": "stdout",
          "output_type": "stream",
          "text": [
            "[[0 0 0 0 0]\n",
            " [0 0 0 0 0]\n",
            " [0 0 0 0 0]\n",
            " [0 0 0 0 0]\n",
            " [0 0 0 0 0]]\n"
          ]
        }
      ],
      "source": [
        "import numpy as np\n",
        "\n",
        "# Create an (nxn) array with all zeros\n",
        "z = np.zeros((n,n), dtype='int')\n",
        "print(z)"
      ]
    },
    {
      "cell_type": "code",
      "execution_count": null,
      "metadata": {
        "id": "Lng2kNHLZKUR",
        "outputId": "3399dc3c-356a-4572-a8bf-11dcee9f1eca"
      },
      "outputs": [
        {
          "name": "stdout",
          "output_type": "stream",
          "text": [
            "[[0 0 1 0 0]\n",
            " [0 0 1 0 0]\n",
            " [1 1 1 1 1]\n",
            " [0 0 1 0 0]\n",
            " [0 0 1 0 0]]\n"
          ]
        }
      ],
      "source": [
        "# Make the middle row and column all 1s\n",
        "\n",
        "z[n//2,:] = 1\n",
        "z[:,n//2] = 1\n",
        "\n",
        "# Print the final value of z\n",
        "print(z)"
      ]
    },
    {
      "cell_type": "markdown",
      "metadata": {
        "id": "ZJ--yXRYZKUR"
      },
      "source": [
        "#### Just to help you understand about n//2"
      ]
    },
    {
      "cell_type": "code",
      "execution_count": null,
      "metadata": {
        "id": "lPNlsnglZKUR"
      },
      "outputs": [],
      "source": [
        "a= np.array([[1,2,3,4,5,6],\n",
        "             [10,20,30,40,50,60],\n",
        "             [12,12,12,12,12,12],\n",
        "             [11,21,31,41,51,61],\n",
        "             [13,24,34,44,54,64]])"
      ]
    },
    {
      "cell_type": "code",
      "execution_count": null,
      "metadata": {
        "id": "39PROv-BZKUR",
        "outputId": "98b3ca8f-bb8c-4ae2-a9d3-0b637bae2287"
      },
      "outputs": [
        {
          "data": {
            "text/plain": [
              "array([[ 1,  2,  3,  4,  5,  6],\n",
              "       [10, 20, 30, 40, 50, 60],\n",
              "       [12, 12, 12, 12, 12, 12],\n",
              "       [11, 21, 31, 41, 51, 61],\n",
              "       [13, 24, 34, 44, 54, 64]])"
            ]
          },
          "execution_count": 59,
          "metadata": {},
          "output_type": "execute_result"
        }
      ],
      "source": [
        "a"
      ]
    },
    {
      "cell_type": "code",
      "execution_count": null,
      "metadata": {
        "id": "trm8EsTQZKUR"
      },
      "outputs": [],
      "source": [
        "a[5//2,:]=1"
      ]
    },
    {
      "cell_type": "code",
      "execution_count": null,
      "metadata": {
        "id": "fQE7kWZlZKUR"
      },
      "outputs": [],
      "source": [
        "a[:,5//2]=1"
      ]
    },
    {
      "cell_type": "code",
      "execution_count": null,
      "metadata": {
        "id": "QMGun8eIZKUR",
        "outputId": "50710deb-7917-4266-c863-49c8b1e1266e"
      },
      "outputs": [
        {
          "data": {
            "text/plain": [
              "array([[ 1,  2,  1,  4,  5,  6],\n",
              "       [10, 20,  1, 40, 50, 60],\n",
              "       [ 1,  1,  1,  1,  1,  1],\n",
              "       [11, 21,  1, 41, 51, 61],\n",
              "       [13, 24,  1, 44, 54, 64]])"
            ]
          },
          "execution_count": 65,
          "metadata": {},
          "output_type": "execute_result"
        }
      ],
      "source": [
        "a"
      ]
    },
    {
      "cell_type": "code",
      "execution_count": null,
      "metadata": {
        "id": "NTAEHTSCZKUR",
        "outputId": "a59c930b-7d9a-42e5-ffda-6ef1ed691704"
      },
      "outputs": [
        {
          "name": "stdout",
          "output_type": "stream",
          "text": [
            "[[ 1  2  3  4  5  6]\n",
            " [10 20 30 40 50 60]\n",
            " [ 1  1  1  1  1  1]\n",
            " [11 21 31 41 51 61]\n",
            " [13 24 34 44 54 64]]\n"
          ]
        }
      ],
      "source": [
        "a[5//2,:] = 1\n",
        "print(a)"
      ]
    },
    {
      "cell_type": "code",
      "execution_count": null,
      "metadata": {
        "id": "ezym0UhBZKUR",
        "outputId": "53bf682d-0a02-4188-bbff-b4b9c0459f81"
      },
      "outputs": [
        {
          "name": "stdout",
          "output_type": "stream",
          "text": [
            "[[ 1  2  1  4  5  6]\n",
            " [10 20  1 40 50 60]\n",
            " [ 1  1  1  1  1  1]\n",
            " [11 21  1 41 51 61]\n",
            " [13 24  1 44 54 64]]\n"
          ]
        }
      ],
      "source": [
        "a[:,n//2] = 1\n",
        "print(a)"
      ]
    },
    {
      "cell_type": "markdown",
      "metadata": {
        "id": "XJMn-xWdZKUR"
      },
      "source": [
        "## Arithmetic Operations with NumPy - Maths + Stats"
      ]
    },
    {
      "cell_type": "code",
      "execution_count": null,
      "metadata": {
        "id": "MDvDuQGFZKUR",
        "outputId": "e224773b-a89c-496a-c5ba-7731662e7ffe"
      },
      "outputs": [
        {
          "data": {
            "text/plain": [
              "array([1, 2, 3, 4])"
            ]
          },
          "execution_count": 67,
          "metadata": {},
          "output_type": "execute_result"
        }
      ],
      "source": [
        "a = np.array([1,2,3,4])\n",
        "a"
      ]
    },
    {
      "cell_type": "code",
      "execution_count": null,
      "metadata": {
        "id": "w4pE60-zZKUS",
        "outputId": "05aa80d5-a444-43c5-b3d8-a215b6c008d4"
      },
      "outputs": [
        {
          "data": {
            "text/plain": [
              "array([3, 4, 5, 6])"
            ]
          },
          "execution_count": 68,
          "metadata": {},
          "output_type": "execute_result"
        }
      ],
      "source": [
        "a+2"
      ]
    },
    {
      "cell_type": "code",
      "execution_count": null,
      "metadata": {
        "id": "HB_kw9pWZKUS",
        "outputId": "7566f4a7-4889-4fb7-9f11-b5bee5bbb54f"
      },
      "outputs": [
        {
          "data": {
            "text/plain": [
              "array([ 1,  8, 27, 64], dtype=int32)"
            ]
          },
          "execution_count": 69,
          "metadata": {},
          "output_type": "execute_result"
        }
      ],
      "source": [
        "#DO it for -, /, *, //, ** - ALmost all the operations are satisfied\n",
        "\n",
        "a**3"
      ]
    },
    {
      "cell_type": "code",
      "execution_count": null,
      "metadata": {
        "id": "FhpWheAAZKUS",
        "outputId": "b5b362b1-24d7-4608-d1ba-2bb35bc21ae7"
      },
      "outputs": [
        {
          "data": {
            "text/plain": [
              "array([1, 2, 3, 4])"
            ]
          },
          "execution_count": 70,
          "metadata": {},
          "output_type": "execute_result"
        }
      ],
      "source": [
        "a"
      ]
    },
    {
      "cell_type": "code",
      "execution_count": null,
      "metadata": {
        "id": "4Ep4ee7_ZKUS",
        "outputId": "3dbae23f-7b8e-4d07-b3ff-90a3da68fe4b"
      },
      "outputs": [
        {
          "data": {
            "text/plain": [
              "1"
            ]
          },
          "execution_count": 71,
          "metadata": {},
          "output_type": "execute_result"
        }
      ],
      "source": [
        "a.min()"
      ]
    },
    {
      "cell_type": "code",
      "execution_count": null,
      "metadata": {
        "id": "quUMDKjxZKUS",
        "outputId": "2f0977ae-2bce-4a81-dfe8-da905dc5d2b3"
      },
      "outputs": [
        {
          "data": {
            "text/plain": [
              "1"
            ]
          },
          "execution_count": 72,
          "metadata": {},
          "output_type": "execute_result"
        }
      ],
      "source": [
        "np.min(a)"
      ]
    },
    {
      "cell_type": "code",
      "execution_count": null,
      "metadata": {
        "id": "9jodKeOMZKUS",
        "outputId": "0a2cdb39-d36a-4ef3-dc7b-2a840e32d6b9"
      },
      "outputs": [
        {
          "data": {
            "text/plain": [
              "4"
            ]
          },
          "execution_count": 73,
          "metadata": {},
          "output_type": "execute_result"
        }
      ],
      "source": [
        "a.max()"
      ]
    },
    {
      "cell_type": "code",
      "execution_count": null,
      "metadata": {
        "id": "jXiRlVNhZKUS",
        "outputId": "66444bcc-c8e7-4fbf-9a87-115f6b8c0a22"
      },
      "outputs": [
        {
          "data": {
            "text/plain": [
              "4"
            ]
          },
          "execution_count": 74,
          "metadata": {},
          "output_type": "execute_result"
        }
      ],
      "source": [
        "np.max(a)"
      ]
    },
    {
      "cell_type": "code",
      "execution_count": null,
      "metadata": {
        "id": "da2Th5PZZKUS",
        "outputId": "b19fd28c-8ef4-402d-e1b9-77b4cff2da82"
      },
      "outputs": [
        {
          "data": {
            "text/plain": [
              "2.5"
            ]
          },
          "execution_count": 75,
          "metadata": {},
          "output_type": "execute_result"
        }
      ],
      "source": [
        "a.mean()"
      ]
    },
    {
      "cell_type": "code",
      "execution_count": null,
      "metadata": {
        "id": "GlVHfUc8ZKUS",
        "outputId": "4a241908-a026-4834-e91c-50b651ea963a"
      },
      "outputs": [
        {
          "data": {
            "text/plain": [
              "2.5"
            ]
          },
          "execution_count": 76,
          "metadata": {},
          "output_type": "execute_result"
        }
      ],
      "source": [
        "np.mean(a)"
      ]
    },
    {
      "cell_type": "code",
      "execution_count": null,
      "metadata": {
        "id": "oerkN9khZKUS",
        "outputId": "03c0349d-32df-4ffc-c424-25b5fc44d2c8"
      },
      "outputs": [
        {
          "data": {
            "text/plain": [
              "array([[1, 2, 3, 4],\n",
              "       [5, 6, 7, 8]])"
            ]
          },
          "execution_count": 172,
          "metadata": {},
          "output_type": "execute_result"
        }
      ],
      "source": [
        "a = np.array([[1,2,3,4], [5,6,7,8]])\n",
        "a"
      ]
    },
    {
      "cell_type": "code",
      "execution_count": null,
      "metadata": {
        "id": "IOvSTDddZKUT",
        "outputId": "4ee5f67b-cf15-4bd8-895a-f9bf8861b9fa"
      },
      "outputs": [
        {
          "data": {
            "text/plain": [
              "8"
            ]
          },
          "execution_count": 173,
          "metadata": {},
          "output_type": "execute_result"
        }
      ],
      "source": [
        "np.max(a)"
      ]
    },
    {
      "cell_type": "code",
      "execution_count": null,
      "metadata": {
        "id": "OaUjKg8SZKUT",
        "outputId": "696965cd-f96c-432c-e12e-668d1cc65071"
      },
      "outputs": [
        {
          "data": {
            "text/plain": [
              "8"
            ]
          },
          "execution_count": 174,
          "metadata": {},
          "output_type": "execute_result"
        }
      ],
      "source": [
        "a.max()"
      ]
    },
    {
      "cell_type": "code",
      "execution_count": null,
      "metadata": {
        "id": "C-xq60iyZKUT",
        "outputId": "978d0179-8dd2-423a-80c7-9f5691a58754"
      },
      "outputs": [
        {
          "data": {
            "text/plain": [
              "1"
            ]
          },
          "execution_count": 175,
          "metadata": {},
          "output_type": "execute_result"
        }
      ],
      "source": [
        "np.min(a)"
      ]
    },
    {
      "cell_type": "code",
      "execution_count": null,
      "metadata": {
        "id": "RwYO-ltJZKUT",
        "outputId": "52c21cc5-8b54-4ea9-bca4-71395dd4dd16"
      },
      "outputs": [
        {
          "data": {
            "text/plain": [
              "4.5"
            ]
          },
          "execution_count": 176,
          "metadata": {},
          "output_type": "execute_result"
        }
      ],
      "source": [
        "np.mean(a)"
      ]
    },
    {
      "cell_type": "code",
      "execution_count": null,
      "metadata": {
        "id": "HDOggUk6ZKUT",
        "outputId": "2e9f11a0-10be-4239-d600-6e7677fbb351"
      },
      "outputs": [
        {
          "data": {
            "text/plain": [
              "36"
            ]
          },
          "execution_count": 72,
          "metadata": {},
          "output_type": "execute_result"
        }
      ],
      "source": [
        "np.sum(a)"
      ]
    },
    {
      "cell_type": "code",
      "execution_count": null,
      "metadata": {
        "id": "DSqWB8cAZKUT",
        "outputId": "1d8b8fe1-3c13-44c4-d75c-6e3fd7f30d79"
      },
      "outputs": [
        {
          "data": {
            "text/plain": [
              "array([4, 8])"
            ]
          },
          "execution_count": 73,
          "metadata": {},
          "output_type": "execute_result"
        }
      ],
      "source": [
        "np.max(a, axis=1)"
      ]
    },
    {
      "cell_type": "code",
      "execution_count": null,
      "metadata": {
        "id": "GinnkmiBZKUT",
        "outputId": "11400f3f-ed0b-430f-c8e8-c9393f4c1ccc"
      },
      "outputs": [
        {
          "data": {
            "text/plain": [
              "array([5, 6, 7, 8])"
            ]
          },
          "execution_count": 74,
          "metadata": {},
          "output_type": "execute_result"
        }
      ],
      "source": [
        "np.max(a, axis=0)"
      ]
    },
    {
      "cell_type": "code",
      "execution_count": null,
      "metadata": {
        "id": "VMoELds7ZKUT",
        "outputId": "a938741c-5598-431b-81e4-2ed2ef8949cf"
      },
      "outputs": [
        {
          "data": {
            "text/plain": [
              "array([1, 2, 3, 4])"
            ]
          },
          "execution_count": 75,
          "metadata": {},
          "output_type": "execute_result"
        }
      ],
      "source": [
        "np.min(a, axis=0)"
      ]
    },
    {
      "cell_type": "code",
      "execution_count": null,
      "metadata": {
        "id": "W8ROwEkpZKUT",
        "outputId": "20e7cfc9-96f0-4d01-9138-de53ce6f84f6"
      },
      "outputs": [
        {
          "data": {
            "text/plain": [
              "array([1, 5])"
            ]
          },
          "execution_count": 76,
          "metadata": {},
          "output_type": "execute_result"
        }
      ],
      "source": [
        "np.min(a, axis=1)"
      ]
    },
    {
      "cell_type": "code",
      "execution_count": null,
      "metadata": {
        "id": "93tkXh0HZKUT",
        "outputId": "47ca306c-2f80-48e8-bdba-6c021250afa1"
      },
      "outputs": [
        {
          "data": {
            "text/plain": [
              "array([10, 26])"
            ]
          },
          "execution_count": 77,
          "metadata": {},
          "output_type": "execute_result"
        }
      ],
      "source": [
        "np.sum(a, axis=1)"
      ]
    },
    {
      "cell_type": "code",
      "execution_count": null,
      "metadata": {
        "id": "G54hOP-YZKUT",
        "outputId": "cacc9fea-35f5-4c8c-bc42-2df37163b6a5"
      },
      "outputs": [
        {
          "data": {
            "text/plain": [
              "array([ 6,  8, 10, 12])"
            ]
          },
          "execution_count": 78,
          "metadata": {},
          "output_type": "execute_result"
        }
      ],
      "source": [
        "np.sum(a, axis=0)"
      ]
    },
    {
      "cell_type": "code",
      "execution_count": null,
      "metadata": {
        "id": "FS9NpBi9ZKUT"
      },
      "outputs": [],
      "source": []
    }
  ],
  "metadata": {
    "kernelspec": {
      "display_name": "Python 3",
      "language": "python",
      "name": "python3"
    },
    "language_info": {
      "codemirror_mode": {
        "name": "ipython",
        "version": 3
      },
      "file_extension": ".py",
      "mimetype": "text/x-python",
      "name": "python",
      "nbconvert_exporter": "python",
      "pygments_lexer": "ipython3",
      "version": "3.7.3"
    },
    "colab": {
      "provenance": []
    }
  },
  "nbformat": 4,
  "nbformat_minor": 0
}